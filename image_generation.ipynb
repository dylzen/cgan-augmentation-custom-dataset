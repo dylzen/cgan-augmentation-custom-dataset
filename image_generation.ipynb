{
 "cells": [
  {
   "cell_type": "markdown",
   "metadata": {},
   "source": [
    "### Importazione delle librerie"
   ]
  },
  {
   "cell_type": "code",
   "execution_count": null,
   "metadata": {},
   "outputs": [],
   "source": [
    "import pathlib\n",
    "import tensorflow as tf\n",
    "import numpy as np\n",
    "from matplotlib import pyplot as plt"
   ]
  },
  {
   "cell_type": "markdown",
   "metadata": {},
   "source": [
    "### Definizione delle variabili\n",
    "Scelta del numero di classi (Healthy e Patient) e numero di immagini sintetiche da generare"
   ]
  },
  {
   "cell_type": "code",
   "execution_count": 1,
   "metadata": {},
   "outputs": [],
   "source": [
    "num_classes = 2\n",
    "synth_images = 3"
   ]
  },
  {
   "cell_type": "markdown",
   "metadata": {},
   "source": [
    "### Seleziono la classe per la quale generare immagini:\n",
    "\n",
    "0 -> [0. 1.] -> Healthy\n",
    "\n",
    "1 -> [1. 0.] -> Patient"
   ]
  },
  {
   "cell_type": "code",
   "execution_count": null,
   "metadata": {},
   "outputs": [],
   "source": [
    "\n",
    "healthy_or_patient = 1\n",
    "# Per aggiungere la classe al percorso e al nome del file\n",
    "if healthy_or_patient == 1:\n",
    "    healthy_or_patient_type = \"Patient ([0. 1.])\"\n",
    "elif healthy_or_patient == 0:\n",
    "    healthy_or_patient_type = \"Healthy ([1. 0.])\""
   ]
  },
  {
   "cell_type": "markdown",
   "metadata": {},
   "source": [
    "### Seleziono uno dei modelli salvati"
   ]
  },
  {
   "cell_type": "code",
   "execution_count": null,
   "metadata": {},
   "outputs": [],
   "source": [
    "good_checkpoint_20220521 = \"best_augmented_generator_20220521-162822_cp-epo0100-g_loss1.65-d_loss0.34-acc0.87-mse0.09.h5\"\n",
    "meander02_40epo = \"best_not_augmented_generator_20220507-145052_cp-epo0040-g_loss0.78-d_loss0.72-acc0.59-mse0.24.h5\"\n",
    "meander02_epo500 = \"cgan_generator_meander02_epoch501.h5\"\n",
    "meander02_epo1000 = \"cgan_gen_meander02_epoch1001_20220508-010316.h5\"\n",
    "\n",
    "model_name = good_checkpoint_20220521"
   ]
  },
  {
   "cell_type": "markdown",
   "metadata": {},
   "source": [
    "### Carico il modello del generatore.\n"
   ]
  },
  {
   "cell_type": "code",
   "execution_count": null,
   "metadata": {},
   "outputs": [],
   "source": [
    "trained_generator = tf.keras.models.load_model(\"models/testing/\" + model_name)\n",
    "trained_generator.summary()"
   ]
  },
  {
   "cell_type": "code",
   "execution_count": null,
   "metadata": {},
   "outputs": [],
   "source": [
    "generated_images_dir = \"logs/generated_images/from_best_models/\"\n",
    "model_name_dir = pathlib.Path(generated_images_dir, model_name)\n",
    "model_name_dir.mkdir(parents=True, exist_ok=True)\n",
    "healthy_or_patient_dir = pathlib.Path(model_name_dir, healthy_or_patient_type)\n",
    "healthy_or_patient_dir.mkdir(parents=True, exist_ok=True)"
   ]
  },
  {
   "cell_type": "markdown",
   "metadata": {},
   "source": [
    "### Modifico lo script di default eliminando l'interpolazione e generando immagini al posto della gif\n",
    "Riferimento: https://keras.io/examples/generative/conditional_gan/"
   ]
  },
  {
   "cell_type": "code",
   "execution_count": null,
   "metadata": {},
   "outputs": [],
   "source": [
    "latent_dim = 128\n",
    "# Sample noise\n",
    "noise = tf.random.normal(shape=(1, latent_dim))\n",
    "noise = tf.repeat(noise, repeats=synth_images)\n",
    "noise = tf.reshape(noise, (synth_images, latent_dim))\n",
    "print(noise.shape)\n",
    "\n",
    "def generate_images_and_labels(class_number):\n",
    "    # Convert the start and end labels to one-hot encoded vectors.\n",
    "    class_label = tf.keras.utils.to_categorical([class_number], num_classes)\n",
    "    print(f'Class label to_categorical: ', class_label)\n",
    "    class_label = tf.cast(class_label, tf.float32)\n",
    "    print(f'Class label cast: ', class_label)\n",
    "   \n",
    "    print(f'Class label shape before: ', class_label.shape)\n",
    "    print(class_label)\n",
    "    class_label = tf.repeat(class_label, synth_images, axis=0)\n",
    "    print(f'Class label shape after: ', class_label.shape)\n",
    "    print(class_label)\n",
    "    \n",
    "    # Combine the noise and the labels and run inference with the generator.\n",
    "    noise_and_labels = tf.concat([noise, class_label], 1)\n",
    "    synth_img = trained_generator.predict(noise_and_labels)\n",
    "    return synth_img, class_label\n",
    "\n",
    "fake_images, label = generate_images_and_labels(healthy_or_patient)"
   ]
  },
  {
   "cell_type": "code",
   "execution_count": null,
   "metadata": {},
   "outputs": [],
   "source": [
    "\n",
    "synth_images *= 255.0\n",
    "generated_images = fake_images.astype(np.uint8)\n",
    "for i in range(synth_images):\n",
    "    img = tf.keras.preprocessing.image.array_to_img(generated_images[i])\n",
    "    img.save(f\"{healthy_or_patient_dir}/synt_{healthy_or_patient_type}_{i+1}_{model_name}.png\")\n",
    "    print(\"Salvata immagine con nome synt_{}_{}_{}.png\".format(healthy_or_patient_type, i+1, model_name))\n",
    "    "
   ]
  },
  {
   "cell_type": "markdown",
   "metadata": {},
   "source": [
    "### Visualizzo un esempio di immagini generate"
   ]
  },
  {
   "cell_type": "code",
   "execution_count": null,
   "metadata": {},
   "outputs": [],
   "source": [
    "print(f'Nome del modello: ', model_name)\n",
    "print(f'Classe delle immagini sintetiche: ', healthy_or_patient_type)\n",
    "plt.figure(figsize=(12, 12))\n",
    "for i in range(synth_images):\n",
    "    plt.subplot(1, 5, i + 1)\n",
    "    plt.imshow(generated_images[i], cmap='gray')\n",
    "    plt.title((label[i].numpy()))\n",
    "    plt.axis('off')"
   ]
  }
 ],
 "metadata": {
  "kernelspec": {
   "display_name": "Python 3.9.12 ('env_tensorflow')",
   "language": "python",
   "name": "python3"
  },
  "language_info": {
   "codemirror_mode": {
    "name": "ipython",
    "version": 3
   },
   "file_extension": ".py",
   "mimetype": "text/x-python",
   "name": "python",
   "nbconvert_exporter": "python",
   "pygments_lexer": "ipython3",
   "version": "3.9.12"
  },
  "orig_nbformat": 4,
  "vscode": {
   "interpreter": {
    "hash": "c47b1065398c2163c640202fad4fcf79d15a59777db3d8c704111e37697c1cab"
   }
  }
 },
 "nbformat": 4,
 "nbformat_minor": 2
}
